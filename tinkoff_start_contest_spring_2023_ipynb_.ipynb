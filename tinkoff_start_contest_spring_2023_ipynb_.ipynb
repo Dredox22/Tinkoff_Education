{
  "nbformat": 4,
  "nbformat_minor": 0,
  "metadata": {
    "colab": {
      "provenance": []
    },
    "kernelspec": {
      "name": "python3",
      "display_name": "Python 3"
    },
    "language_info": {
      "name": "python"
    }
  },
  "cells": [
    {
      "cell_type": "code",
      "source": [
        "heights = list(map(int, input().split()))\n",
        "if heights == sorted(heights) or heights == sorted(heights, reverse=True):\n",
        "    print(\"YES\")\n",
        "else:\n",
        "    print(\"NO\")"
      ],
      "metadata": {
        "colab": {
          "base_uri": "https://localhost:8080/"
        },
        "id": "H4Xpd1gqECzY",
        "outputId": "51648c0e-2265-4d4a-a63a-ab922ba1a680"
      },
      "execution_count": null,
      "outputs": [
        {
          "output_type": "stream",
          "name": "stdout",
          "text": [
            "5 2 3 1\n",
            "NO\n"
          ]
        }
      ]
    },
    {
      "cell_type": "code",
      "source": [
        "import math\n",
        "n, m, k = map(int, input().split())\n",
        "total_time = math.floor((n*k+m-1)/m)\n",
        "print(total_time)"
      ],
      "metadata": {
        "colab": {
          "base_uri": "https://localhost:8080/"
        },
        "id": "F97h64_6FQAJ",
        "outputId": "063c51e7-3194-49c2-c704-c468b88f6578"
      },
      "execution_count": null,
      "outputs": [
        {
          "output_type": "stream",
          "name": "stdout",
          "text": [
            "7 3 2\n",
            "5\n"
          ]
        }
      ]
    },
    {
      "cell_type": "code",
      "source": [
        "n = int(input())\n",
        "s = input()\n",
        "\n",
        "a, b, c, d = 0, 0, 0, 0\n",
        "left, right = 0, 0\n",
        "ans = float('inf')\n",
        "\n",
        "while right < n:\n",
        "    if s[right] == 'a':\n",
        "        a = 1\n",
        "    elif s[right] == 'b':\n",
        "        b = 1\n",
        "    elif s[right] == 'c':\n",
        "        c = 1\n",
        "    elif s[right] == 'd':\n",
        "        d = 1\n",
        "    \n",
        "    while a and b and c and d:\n",
        "        ans = min(ans, right - left + 1)\n",
        "        if s[left] == 'a':\n",
        "            a = 0\n",
        "        elif s[left] == 'b':\n",
        "            b = 0\n",
        "        elif s[left] == 'c':\n",
        "            c = 0\n",
        "        elif s[left] == 'd':\n",
        "            d = 0\n",
        "        left += 1\n",
        "    \n",
        "    right += 1\n",
        "\n",
        "if ans == float('inf'):\n",
        "    print(-1)\n",
        "else:\n",
        "    print(ans)"
      ],
      "metadata": {
        "colab": {
          "base_uri": "https://localhost:8080/"
        },
        "id": "ggEZhiQhJkdB",
        "outputId": "2b5e1541-7904-4b59-8ff1-ed404364e258"
      },
      "execution_count": null,
      "outputs": [
        {
          "output_type": "stream",
          "name": "stdout",
          "text": [
            "12\n",
            "aabbccddbadd\n",
            "7\n"
          ]
        }
      ]
    },
    {
      "cell_type": "code",
      "source": [
        "from math import inf\n",
        " \n",
        "n = int(input())\n",
        "s = input()\n",
        "ans = inf\n",
        "for i in range(n - 1):\n",
        "    for j in range(i + 1, n):\n",
        "        if len(set(s[i:j + 1])) == 4:\n",
        "            ans = min(ans, j - i + 1)\n",
        "if ans is inf:\n",
        "    print(-1)\n",
        "else:\n",
        "    print(ans)"
      ],
      "metadata": {
        "colab": {
          "base_uri": "https://localhost:8080/"
        },
        "id": "mIjR5LqyKkz5",
        "outputId": "1c8c472e-d328-4547-e9eb-93eb4c4544ea"
      },
      "execution_count": null,
      "outputs": [
        {
          "output_type": "stream",
          "name": "stdout",
          "text": [
            "7\n",
            "abcabac\n",
            "-1\n"
          ]
        }
      ]
    },
    {
      "cell_type": "code",
      "source": [
        "def is_boring(arr):\n",
        "    s = set(arr)\n",
        "    if len(s) == 2:\n",
        "        if arr.count(min(s)) == 1:\n",
        "            return True\n",
        "        if arr.count(max(s)) == 1:\n",
        "            return True\n",
        "    if arr.count(1) == len(arr):\n",
        "        return True\n",
        "    return False\n",
        " \n",
        " \n",
        "n = int(input())\n",
        "*a, = map(int, input().split())\n",
        "ans = 1\n",
        "d = {}\n",
        "for i in range(n):\n",
        "    key = a[i]\n",
        "    d[key] = d.get(key, 0) + 1\n",
        "    if is_boring(list(d.values())):\n",
        "        ans = i + 1\n",
        "print(ans)"
      ],
      "metadata": {
        "colab": {
          "base_uri": "https://localhost:8080/"
        },
        "id": "MPWdoDLpMbGv",
        "outputId": "eb0ceb13-b6b7-4932-a6af-5d3964f078b0"
      },
      "execution_count": null,
      "outputs": [
        {
          "output_type": "stream",
          "name": "stdout",
          "text": [
            "5\n",
            "1 2 3 4 5\n",
            "5\n"
          ]
        }
      ]
    },
    {
      "cell_type": "code",
      "source": [
        "input()\n",
        "bals = list(map(int, input().split()))\n",
        "n = len(bals)\n",
        "rngs = set()\n",
        "for start in range(n - 1):\n",
        "    for end in range(start + 2, n + 1):\n",
        "        if sum(bals[start:end]) == 0:\n",
        "            rngs |= { (i, j) for i in range(start + 1) for j in range(end - 1, n) }\n",
        "            break\n",
        "print(len(rngs))"
      ],
      "metadata": {
        "colab": {
          "base_uri": "https://localhost:8080/"
        },
        "id": "ibxISFKfN_Pv",
        "outputId": "41456317-034d-4d25-cb2a-3a203852984a"
      },
      "execution_count": null,
      "outputs": [
        {
          "output_type": "stream",
          "name": "stdout",
          "text": [
            "5\n",
            "-1 1 2 -3 6\n",
            "6\n"
          ]
        }
      ]
    },
    {
      "cell_type": "code",
      "source": [
        "n, s = map(int, input().split())\n",
        "a = []\n",
        "for i in range(n):\n",
        "    l, r = map(int, input().split())\n",
        "    a.append((l, r))\n",
        "a.sort(key=lambda x: x[1])\n",
        "lo, hi = 0, 10**9+1\n",
        "while hi - lo > 1:\n",
        "    mid = (lo + hi) // 2\n",
        "    cnt = 0\n",
        "    summa = 0\n",
        "    for i in range(n):\n",
        "        if a[i][0] >= mid:\n",
        "            cnt += 1\n",
        "            summa += a[i][0]\n",
        "        elif a[i][1] >= mid:\n",
        "            cnt += 1\n",
        "            summa += mid\n",
        "        if cnt > n // 2 or summa > s:\n",
        "            break\n",
        "    if cnt <= n // 2 and summa <= s:\n",
        "        lo = mid\n",
        "    else:\n",
        "        hi = mid\n",
        "print(lo)"
      ],
      "metadata": {
        "colab": {
          "base_uri": "https://localhost:8080/"
        },
        "id": "SbLN_DdMPT7E",
        "outputId": "b4e298f2-6ed9-4f60-942c-fa3011ff438a"
      },
      "execution_count": null,
      "outputs": [
        {
          "output_type": "stream",
          "name": "stdout",
          "text": [
            "3 27\n",
            "11 14\n",
            "2 10\n",
            "11 14\n",
            "1000000000\n"
          ]
        }
      ]
    },
    {
      "cell_type": "code",
      "source": [
        "n, s = map(int, input().split())\n",
        "students = []\n",
        "for i in range(n):\n",
        "    l, r = map(int, input().split())\n",
        "    students.append((l, r))\n",
        "    \n",
        "students.sort() # сортируем список студентов по минимальному баллу\n",
        "\n",
        "left = 0 # нижняя граница для бинарного поиска\n",
        "right = 10**9 + 1 # верхняя граница для бинарного поиска\n",
        "ans = 0 # текущий ответ\n",
        "\n",
        "while left <= right:\n",
        "    mid = (left + right) // 2 # текущее значение ответа\n",
        "    \n",
        "    # проверяем, можно ли выставить всем ученикам баллы не меньше mid, не превышая суммы баллов s\n",
        "    sum_scores = 0 # суммарное количество баллов, которое можно выставить\n",
        "    score_counts = [] # список количеств баллов, которые можно выставить каждому студенту, чтобы достичь текущего ответа mid\n",
        "    for l, r in students:\n",
        "        if l > mid: # если минимальный балл ученика больше текущего ответа, то никакие баллы ему не выставляем\n",
        "            break\n",
        "        score_count = min(r, mid) - l # количество баллов, которые можно выставить текущему студенту\n",
        "        sum_scores += score_count\n",
        "        score_counts.append(score_count)\n",
        "    if len(score_counts) == n and sum_scores <= s: # если получилось выставить всем ученикам баллы, не превышая s\n",
        "        ans = mid # сохраняем текущее значение ответа\n",
        "        left = mid + 1 # продолжаем бинарный поиск с большим значением\n",
        "    else:\n",
        "        right = mid - 1 # продолжаем бинарный поиск с меньшим значением\n",
        "\n",
        "print(ans)"
      ],
      "metadata": {
        "colab": {
          "base_uri": "https://localhost:8080/"
        },
        "id": "2cg8HFn8SyIx",
        "outputId": "9a0d8eb1-ce2f-4141-d327-ec0c8aed255e"
      },
      "execution_count": null,
      "outputs": [
        {
          "output_type": "stream",
          "name": "stdout",
          "text": [
            "3 27\n",
            "11 14\n",
            "2 10\n",
            "11 14\n",
            "1000000001\n"
          ]
        }
      ]
    },
    {
      "cell_type": "code",
      "source": [
        "n = int(input())\n",
        "s = int(input())\n",
        "medMin = 0\n",
        "medMax = 0\n",
        "result = 0\n",
        "l = []\n",
        "r = []\n",
        "for i in range(n):\n",
        "    l.append(int(input()))\n",
        "    r.append(int(input()))\n",
        "l = sorted(l)\n",
        "while sum(l) > s:\n",
        "    for i in range(len(l)):\n",
        "        l[i] -= 1\n",
        "while sum(l) < s:\n",
        "    for i in range(len(l)):\n",
        "        l[i] += 1\n",
        "medMin = l[n//2]\n",
        "r = sorted(r)\n",
        "while sum(r) > s:\n",
        "    for i in range(len(r)):\n",
        "        r[i] -= 1\n",
        "while sum(r) <= s:\n",
        "    for i in range(len(r)):\n",
        "        r[i] += 1\n",
        "medMax = r[n//2]\n",
        "if medMax > medMin:\n",
        "    result = medMax\n",
        "else:\n",
        "    result = medMin\n",
        "print(result)\n",
        "def sum(s):\n",
        "    sum = 0\n",
        "    for i in range(len(s)):\n",
        "        sum += s[i]\n",
        "    return sum"
      ],
      "metadata": {
        "colab": {
          "base_uri": "https://localhost:8080/",
          "height": 253
        },
        "id": "-LNWCTj7l5WC",
        "outputId": "76f3dc3f-0fc2-415b-e078-ffb8eb86bee1"
      },
      "execution_count": null,
      "outputs": [
        {
          "name": "stdout",
          "output_type": "stream",
          "text": [
            "3 27\n"
          ]
        },
        {
          "output_type": "error",
          "ename": "ValueError",
          "evalue": "ignored",
          "traceback": [
            "\u001b[0;31m---------------------------------------------------------------------------\u001b[0m",
            "\u001b[0;31mValueError\u001b[0m                                Traceback (most recent call last)",
            "\u001b[0;32m<ipython-input-42-408c2f4211b1>\u001b[0m in \u001b[0;36m<cell line: 1>\u001b[0;34m()\u001b[0m\n\u001b[0;32m----> 1\u001b[0;31m \u001b[0mn\u001b[0m \u001b[0;34m=\u001b[0m \u001b[0mint\u001b[0m\u001b[0;34m(\u001b[0m\u001b[0minput\u001b[0m\u001b[0;34m(\u001b[0m\u001b[0;34m)\u001b[0m\u001b[0;34m)\u001b[0m\u001b[0;34m\u001b[0m\u001b[0;34m\u001b[0m\u001b[0m\n\u001b[0m\u001b[1;32m      2\u001b[0m \u001b[0ms\u001b[0m \u001b[0;34m=\u001b[0m \u001b[0mint\u001b[0m\u001b[0;34m(\u001b[0m\u001b[0minput\u001b[0m\u001b[0;34m(\u001b[0m\u001b[0;34m)\u001b[0m\u001b[0;34m)\u001b[0m\u001b[0;34m\u001b[0m\u001b[0;34m\u001b[0m\u001b[0m\n\u001b[1;32m      3\u001b[0m \u001b[0mmedMin\u001b[0m \u001b[0;34m=\u001b[0m \u001b[0;36m0\u001b[0m\u001b[0;34m\u001b[0m\u001b[0;34m\u001b[0m\u001b[0m\n\u001b[1;32m      4\u001b[0m \u001b[0mmedMax\u001b[0m \u001b[0;34m=\u001b[0m \u001b[0;36m0\u001b[0m\u001b[0;34m\u001b[0m\u001b[0;34m\u001b[0m\u001b[0m\n\u001b[1;32m      5\u001b[0m \u001b[0mresult\u001b[0m \u001b[0;34m=\u001b[0m \u001b[0;36m0\u001b[0m\u001b[0;34m\u001b[0m\u001b[0;34m\u001b[0m\u001b[0m\n",
            "\u001b[0;31mValueError\u001b[0m: invalid literal for int() with base 10: '3 27'"
          ]
        }
      ]
    }
  ]
}